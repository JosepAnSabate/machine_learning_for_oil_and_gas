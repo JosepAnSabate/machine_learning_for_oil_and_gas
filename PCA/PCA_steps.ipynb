{
  "nbformat": 4,
  "nbformat_minor": 0,
  "metadata": {
    "colab": {
      "provenance": []
    },
    "kernelspec": {
      "name": "python3",
      "display_name": "Python 3"
    },
    "language_info": {
      "name": "python"
    }
  },
  "cells": [
    {
      "cell_type": "markdown",
      "source": [
        "- Standarize the data set\n",
        "\n",
        "- Calculate the covariance matrix (also known as variance-covariance).\n",
        "\n",
        "- Sort the eigenvalues in a descending order and choose n eigenvectors. n is the number of dimensions after applying PCA.\n",
        "\n",
        "- Calculate the principal components and reduce the dimensions of the dataset."
      ],
      "metadata": {
        "id": "BsqjSyoSD6fx"
      }
    }
  ]
}